{
 "cells": [
  {
   "cell_type": "markdown",
   "metadata": {},
   "source": [
    "# Moving Company Exploratory Data Analysis\n",
    "\n",
    "Imports the Google Calendar information from a moving company and describes relevant data."
   ]
  },
  {
   "cell_type": "markdown",
   "metadata": {},
   "source": [
    "We need the Python library _icalendar_ to parse the Google Calendar."
   ]
  },
  {
   "cell_type": "code",
   "execution_count": 1,
   "metadata": {
    "collapsed": true
   },
   "outputs": [],
   "source": [
    "from icalendar import Calendar, Event"
   ]
  },
  {
   "cell_type": "markdown",
   "metadata": {},
   "source": [
    "Let's create a Python dictionary to hold the data from the moving jobs"
   ]
  },
  {
   "cell_type": "code",
   "execution_count": 2,
   "metadata": {
    "collapsed": true
   },
   "outputs": [],
   "source": [
    "jobs = {}\n",
    "i = 0"
   ]
  },
  {
   "cell_type": "markdown",
   "metadata": {},
   "source": [
    "The text fields (summary and description) have newlines (/n) and $. We need a method for Python to correctly interpret these."
   ]
  },
  {
   "cell_type": "markdown",
   "metadata": {},
   "source": [
    "## I'm not sure I understand the notes in the DESCRIPTION field\n",
    "\n",
    "It seems like it is some shorthand on how many hours the job took, what the hourly rate will be, how many movers are needed, etc. It's going to be difficult to parse this, but we'll take a stab at it with some regular expressions.\n",
    "\n",
    "In some cases, I think they are listing the hourly rate. In other cases, I think they are listing the total charge. I need some sort of client decision on how to tell which is which. Of course, there are some cases where they have more than 5 movers so that might explain the high hourly rates (5 movers x \\$50/hr = \\$250/hr)"
   ]
  },
  {
   "cell_type": "code",
   "execution_count": 3,
   "metadata": {
    "collapsed": false
   },
   "outputs": [],
   "source": [
    "import re\n",
    "\n",
    "'''\n",
    "Extract the hourly rate\n",
    "This should be in the description after the dollar sign.\n",
    "However, this should be checked with the client.\n",
    "I think sometimes the number is the hourly rate and other times it is the total charge.\n",
    "So use a regular expression\n",
    "'''\n",
    "def extractRate(text):\n",
    "    \n",
    "    rate = re.findall(r'[\\$]{1}\\d+\\.?\\d{0,2}',text)\n",
    "    if len(rate) > 0:  # Only return first dollar amount found\n",
    "        rate = float(rate[0][1:])   # Strip dollar sign and return decimal only\n",
    "    else:\n",
    "        rate = None\n",
    "    return rate"
   ]
  },
  {
   "cell_type": "code",
   "execution_count": 4,
   "metadata": {
    "collapsed": false
   },
   "outputs": [],
   "source": [
    "def extractEmail(text):\n",
    "    \n",
    "    email = re.findall(r'\\w+@[\\w.-]+|\\{(?:\\w+, *)+\\w+\\}@[\\w.-]+',text.replace('\\\\n', ' '))\n",
    "    if len(email) > 0:\n",
    "        email = email[0]\n",
    "    else:\n",
    "        email = None\n",
    "        \n",
    "    return email\n"
   ]
  },
  {
   "cell_type": "code",
   "execution_count": 5,
   "metadata": {
    "collapsed": true
   },
   "outputs": [],
   "source": [
    "def raw(text):\n",
    "    return text"
   ]
  },
  {
   "cell_type": "markdown",
   "metadata": {},
   "source": [
    "The _icalendar_ library parses the calendar. For every _event_ in the calendar, we check to see which fields are present."
   ]
  },
  {
   "cell_type": "code",
   "execution_count": 6,
   "metadata": {
    "collapsed": true
   },
   "outputs": [],
   "source": [
    "def parseKeys(component):\n",
    "    \n",
    "      \n",
    "    if component.has_key('DTSTART'):\n",
    "            DTSTART = component.get('DTSTART').to_ical()\n",
    "    else:\n",
    "        DTSTART = None\n",
    "\n",
    "    if component.has_key('DTEND'):\n",
    "        DTEND = component.get('DTEND').to_ical()\n",
    "    else:\n",
    "        DTEND = None\n",
    "\n",
    "    if component.has_key('RRULE'):\n",
    "        RRULE = component.get('RRULE').to_ical()\n",
    "    else:\n",
    "        RRULE = None\n",
    "\n",
    "    if component.has_key('DTSTAMP'):\n",
    "        DTSTAMP = component.get('DTSTAMP').to_ical()\n",
    "    else:\n",
    "        DTSTAMP = None\n",
    "\n",
    "    if component.has_key('UID'):\n",
    "        UID = component.get('UID').to_ical()\n",
    "    else:\n",
    "        UID = None\n",
    "\n",
    "    if component.has_key('CREATED'):\n",
    "        CREATED = component.get('CREATED').to_ical()\n",
    "    else:\n",
    "        CREATED = None\n",
    "\n",
    "    if component.has_key('DESCRIPTION'):\n",
    "        DESCRIPTION = raw(component.get('DESCRIPTION').to_ical())\n",
    "        HOURLYRATE = extractRate(DESCRIPTION)\n",
    "        EMAIL = extractEmail(DESCRIPTION)\n",
    "    else:\n",
    "        DESCRIPTION = None\n",
    "        HOURLYRATE = None\n",
    "        EMAIL = None\n",
    "\n",
    "    if component.has_key('LAST-MODIFIED'):\n",
    "        LASTMODIFIED = component.get('LAST-MODIFIED').to_ical()\n",
    "    else:\n",
    "        LASTMODIFIED = None\n",
    "\n",
    "    if component.has_key('LOCATION'):\n",
    "        LOCATION = component.get('LOCATION').to_ical()\n",
    "    else:\n",
    "        LOCATION = None\n",
    "\n",
    "    if component.has_key('SEQUENCE'):\n",
    "        SEQUENCE = component.get('SEQUENCE').to_ical()\n",
    "    else:\n",
    "        SEQUENCE = None\n",
    "\n",
    "    if component.has_key('SUMMARY'):\n",
    "        SUMMARY = raw(component.get('SUMMARY').to_ical())\n",
    "    else:\n",
    "        SUMMARY = None\n",
    "\n",
    "    if component.has_key('TRANSP'):\n",
    "        TRANSP = component.get('TRANSP').to_ical()\n",
    "    else:\n",
    "        TRANSP = None\n",
    "\n",
    "\n",
    "    return [DTSTART,\n",
    "            DTEND,\n",
    "            RRULE,\n",
    "            DTSTAMP,\n",
    "            UID,\n",
    "            CREATED,\n",
    "            DESCRIPTION,\n",
    "            HOURLYRATE,\n",
    "            EMAIL,\n",
    "            LASTMODIFIED,\n",
    "            LOCATION,\n",
    "            SEQUENCE,\n",
    "            SUMMARY,\n",
    "            TRANSP]"
   ]
  },
  {
   "cell_type": "markdown",
   "metadata": {},
   "source": [
    "Now go through the file and parse the moving jobs into the dictionary"
   ]
  },
  {
   "cell_type": "code",
   "execution_count": 7,
   "metadata": {
    "collapsed": false
   },
   "outputs": [],
   "source": [
    "fileName = 'vectormovingsd@gmail.com.ics'\n",
    "\n",
    "with open(fileName,'rb') as fp:\n",
    "    gcal = Calendar.from_ical(fp.read())\n",
    "    for component in gcal.walk():\n",
    "    \n",
    "        if component.name == 'VEVENT':\n",
    "         \n",
    "            jobs[i] = parseKeys(component)\n",
    "\n",
    "            i += 1\n",
    "    \n",
    "fp.close()"
   ]
  },
  {
   "cell_type": "markdown",
   "metadata": {},
   "source": [
    "Let's put the jobs into Pandas"
   ]
  },
  {
   "cell_type": "code",
   "execution_count": 8,
   "metadata": {
    "collapsed": false
   },
   "outputs": [],
   "source": [
    "import pandas as pd"
   ]
  },
  {
   "cell_type": "code",
   "execution_count": 9,
   "metadata": {
    "collapsed": false
   },
   "outputs": [],
   "source": [
    "dfJobs = pd.DataFrame.from_dict(jobs, orient='index')\n",
    "dfJobs.columns = ['DTSTART',\n",
    "                  'DTEND',\n",
    "                  'RRULE',\n",
    "                  'DTSTAMP',\n",
    "                  'UID',\n",
    "                  'CREATED',\n",
    "                  'DESCRIPTION',\n",
    "                  'HOURLY RATE',\n",
    "                  'EMAIL',\n",
    "                  'LAST MODIFIED',\n",
    "                  'LOCATION',\n",
    "                  'SEQUENCE',\n",
    "                  'SUMMARY',\n",
    "                  'TRANSP']"
   ]
  },
  {
   "cell_type": "code",
   "execution_count": 10,
   "metadata": {
    "collapsed": false
   },
   "outputs": [],
   "source": [
    "del jobs   # Free up memory"
   ]
  },
  {
   "cell_type": "markdown",
   "metadata": {},
   "source": [
    "Let's convert the time/date stamps to correct format."
   ]
  },
  {
   "cell_type": "code",
   "execution_count": 11,
   "metadata": {
    "collapsed": false
   },
   "outputs": [],
   "source": [
    "dfJobs['DTSTART'] = pd.to_datetime(dfJobs['DTSTART'])\n",
    "dfJobs['DTEND'] = pd.to_datetime(dfJobs['DTEND'])\n",
    "dfJobs['DTSTAMP'] = pd.to_datetime(dfJobs['DTSTAMP'])\n",
    "dfJobs['CREATED'] = pd.to_datetime(dfJobs['CREATED'])\n",
    "dfJobs['LAST MODIFIED'] = pd.to_datetime(dfJobs['LAST MODIFIED'])"
   ]
  },
  {
   "cell_type": "markdown",
   "metadata": {},
   "source": [
    "# Sanity check\n",
    "\n",
    "Note that the DESCRIPTION and SUMMARY fields differ in the hourly rate (\\$55 vs. \\$60/hr)"
   ]
  },
  {
   "cell_type": "code",
   "execution_count": 17,
   "metadata": {
    "collapsed": false,
    "scrolled": true
   },
   "outputs": [
    {
     "data": {
      "text/plain": [
       "DTSTART                                        2013-09-06 22:00:00\n",
       "DTEND                                          2013-09-06 23:00:00\n",
       "RRULE                                                         None\n",
       "DTSTAMP                                        2016-11-29 12:31:58\n",
       "UID                          galblf8rorplcgmdmb7aqtcst8@google.com\n",
       "CREATED                                        2013-09-04 19:00:55\n",
       "DESCRIPTION      yelp.com\\ncholleti15@yahoo.com\\n3 hours $55/hr...\n",
       "HOURLY RATE                                                     55\n",
       "EMAIL                                         cholleti15@yahoo.com\n",
       "LAST MODIFIED                                  2013-09-09 17:33:20\n",
       "LOCATION              9175 Judicial Dr apt 6412 San Diego Ca 92122\n",
       "SEQUENCE                                                         0\n",
       "SUMMARY          Hanu Cholleti 858-752-7580 $60/hr 3 hours from...\n",
       "TRANSP                                                      OPAQUE\n",
       "Name: 40, dtype: object"
      ]
     },
     "execution_count": 17,
     "metadata": {},
     "output_type": "execute_result"
    }
   ],
   "source": [
    "dfJobs.ix[40]"
   ]
  },
  {
   "cell_type": "code",
   "execution_count": 18,
   "metadata": {
    "collapsed": false
   },
   "outputs": [
    {
     "data": {
      "text/plain": [
       "DTSTART                                        2014-09-04 14:00:00\n",
       "DTEND                                          2014-09-04 17:30:00\n",
       "RRULE                                                         None\n",
       "DTSTAMP                                        2016-11-29 12:31:58\n",
       "UID                          13jomfb9fhjn6lq51d3gvc38h4@google.com\n",
       "CREATED                                        2014-08-14 19:28:05\n",
       "DESCRIPTION                                    kajrswift@yahoo.com\n",
       "HOURLY RATE                                                    NaN\n",
       "EMAIL                                          kajrswift@yahoo.com\n",
       "LAST MODIFIED                                  2014-08-22 22:34:29\n",
       "LOCATION                 3885 Creststone Pl\\, San Diego\\, CA 92130\n",
       "SEQUENCE                                                         0\n",
       "SUMMARY          Cancelled 8-9 full packing KAY Swift 2bdr 415-...\n",
       "TRANSP                                                      OPAQUE\n",
       "Name: 1200, dtype: object"
      ]
     },
     "execution_count": 18,
     "metadata": {},
     "output_type": "execute_result"
    }
   ],
   "source": [
    "dfJobs.ix[1200]"
   ]
  },
  {
   "cell_type": "code",
   "execution_count": 13,
   "metadata": {
    "collapsed": true
   },
   "outputs": [],
   "source": [
    "import matplotlib.pyplot as plt\n",
    "%matplotlib inline\n",
    "\n",
    "import matplotlib.ticker as plticker\n",
    "\n",
    "loc = plticker.MultipleLocator(base=5.0) # this locator puts ticks at regular intervals\n"
   ]
  },
  {
   "cell_type": "code",
   "execution_count": 14,
   "metadata": {
    "collapsed": false
   },
   "outputs": [
    {
     "data": {
      "image/png": "[encoded data removed]",
      "text/plain": [
       "<matplotlib.figure.Figure at 0x7fbf133b3450>"
      ]
     },
     "metadata": {},
     "output_type": "display_data"
    }
   ],
   "source": [
    "ax = dfJobs['DTSTART'].groupby([dfJobs['DTSTART'].dt.year, dfJobs['DTSTART'].dt.month]).count().plot(kind=\"bar\", \n",
    "                                                                                                     rot=15,\n",
    "                                                                                                    figsize=(20,20));\n",
    "ax.xaxis.set_major_locator(loc);\n",
    "plt.xlabel('Date of job', fontsize=32);\n",
    "plt.ylabel('Number of jobs', fontsize=32);\n",
    "plt.title('Number of jobs per month', fontsize=40);"
   ]
  },
  {
   "cell_type": "code",
   "execution_count": 15,
   "metadata": {
    "collapsed": false
   },
   "outputs": [
    {
     "data": {
      "text/plain": [
       "'Ktran92126@yahoo.com\\\\nDiscount is 10% movers got there late.\\\\n3 hours total \\\\n$31.725'"
      ]
     },
     "execution_count": 15,
     "metadata": {},
     "output_type": "execute_result"
    }
   ],
   "source": [
    "dfJobs['DESCRIPTION'].ix[12]"
   ]
  },
  {
   "cell_type": "code",
   "execution_count": null,
   "metadata": {
    "collapsed": true
   },
   "outputs": [],
   "source": []
  }
 ],
 "metadata": {
  "kernelspec": {
   "display_name": "Python 2",
   "language": "python",
   "name": "python2"
  },
  "language_info": {
   "codemirror_mode": {
    "name": "ipython",
    "version": 2
   },
   "file_extension": ".py",
   "mimetype": "text/x-python",
   "name": "python",
   "nbconvert_exporter": "python",
   "pygments_lexer": "ipython2",
   "version": "2.7.13"
  }
 },
 "nbformat": 4,
 "nbformat_minor": 2
}
